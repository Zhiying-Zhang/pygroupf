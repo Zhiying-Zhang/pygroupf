{
 "cells": [
  {
   "cell_type": "markdown",
   "id": "e127dfe2-ae8c-4a31-8f73-364dff3c3678",
   "metadata": {},
   "source": [
    "# Welcome to the tutorial about mypackage!"
   ]
  },
  {
   "cell_type": "code",
   "execution_count": null,
   "id": "82c864be-5526-4fef-a1de-d82180d19b38",
   "metadata": {},
   "outputs": [],
   "source": [
    "pip list"
   ]
  },
  {
   "cell_type": "code",
   "execution_count": null,
   "id": "a06112e1-aa8b-440e-8003-1e1d49bd74c3",
   "metadata": {},
   "outputs": [],
   "source": [
    "from pygroupf.data_processing import DataProcessor"
   ]
  },
  {
   "cell_type": "code",
   "execution_count": null,
   "id": "8b34a263-4b98-49e3-b17a-ed46478264c7",
   "metadata": {},
   "outputs": [],
   "source": [
    "# Define column types\n",
    "categorical_cols = [\n",
    "    \"Sex\",\n",
    "    \"Housing\",\n",
    "    \"Saving accounts\",\n",
    "    \"Checking account\",\n",
    "    \"Purpose\",\n",
    "]\n",
    "numerical_cols = [\"Age\", \"Job\", \"Credit amount\", \"Duration\"]\n",
    "\n",
    "\"\"\"\n",
    "Encode specific categorical columns with numerical values as per requirements:\n",
    "- sex: male=1, female=0\n",
    "- housing: own=2, free=1, rent=0\n",
    "- saving_accounts: unknown=0, little=1, moderate=2, quite rich=3, rich=4\n",
    "- checking_account: unknown=0, little=1, moderate=2, rich=3\n",
    "\"\"\"\n",
    "\n",
    "# Define mapping of categorical values to numerical values\n",
    "mapping = {\n",
    "    \"Sex\": {\"male\": 1, \"female\": 0, \"unknown\": -1},\n",
    "    \"Housing\": {\"own\": 2, \"free\": 1, \"rent\": 0, \"unknown\": -1},\n",
    "    \"Saving accounts\": {\n",
    "        \"unknown\": 0,\n",
    "        \"little\": 1,\n",
    "        \"moderate\": 2,\n",
    "        \"quite rich\": 3,\n",
    "        \"rich\": 4,\n",
    "    },\n",
    "    \"Checking account\": {\"unknown\": 0, \"little\": 1, \"moderate\": 2, \"rich\": 3},\n",
    "}"
   ]
  },
  {
   "cell_type": "code",
   "execution_count": null,
   "id": "43677140-c863-4e51-a6b7-4e4ec3f141b4",
   "metadata": {},
   "outputs": [],
   "source": [
    "# data processing\n",
    "processor = DataProcessor(\"data/german_credit_data.csv\")\n",
    "processor.load_data()\n",
    "processor.clean_data(categorical_cols, numerical_cols)\n",
    "processor.encode_categorical_values(mapping)\n",
    "processed_data = processor.get_processed_data()"
   ]
  },
  {
   "cell_type": "code",
   "execution_count": null,
   "id": "240df2f8-c7ef-4ab7-a9ce-84fe6f76e1a6",
   "metadata": {},
   "outputs": [],
   "source": [
    "# Display the processed data\n",
    "processed_data.head()"
   ]
  },
  {
   "cell_type": "code",
   "execution_count": null,
   "id": "b58fbbb8-b2e0-4350-a8f5-0873c5c2671b",
   "metadata": {},
   "outputs": [],
   "source": [
    "from pygroupf.analysis import DataAnalyzer"
   ]
  },
  {
   "cell_type": "code",
   "execution_count": null,
   "id": "51236740-e7f1-49fe-942e-03c1a1e257aa",
   "metadata": {},
   "outputs": [],
   "source": [
    "# Define scoring rules for different fields\n",
    "scoring_rules = {\n",
    "    'Age': [\n",
    "        {'condition': lambda x: x < 20 or x > 70, 'score': 15},\n",
    "        {'condition': lambda x: 20 <= x < 25 or 60 < x <= 70, 'score': 10},\n",
    "        {'condition': lambda x: 25 <= x < 30 or 50 < x <= 60, 'score': 5}\n",
    "    ],\n",
    "    'Sex': {'male': 2, 'female': 0, 'unknown': 1},\n",
    "    'Job': {0: 15, 1: 10, 2: 5, 3: 1},\n",
    "    'Housing': {0: 15, 1: 10, 2: 5},\n",
    "    'Saving accounts': {\n",
    "        'default': lambda x: (4 - x) * 3 if x > 0 else 10,\n",
    "        'specific': {0: 10}\n",
    "    },\n",
    "    'Checking account': {\n",
    "        'default': lambda x: (3 - x) * 4 if x > 0 else 10,\n",
    "        'specific': {0: 10}\n",
    "    },\n",
    "    'Credit amount': [\n",
    "        {'threshold': 8000, 'score': 15},\n",
    "        {'threshold': 5000, 'score': 10},\n",
    "        {'threshold': 2000, 'score': 5}\n",
    "    ],\n",
    "    'Duration': [\n",
    "        {'threshold': 36, 'score': 15},\n",
    "        {'threshold': 24, 'score': 10},\n",
    "        {'threshold': 12, 'score': 5}\n",
    "    ],\n",
    "    'Purpose': {\n",
    "        'business': 10,\n",
    "        'education': 10,\n",
    "        'unknown': 8,\n",
    "        'car': 5,\n",
    "        'furniture/equipment': 5,\n",
    "        'radio/TV': 3,\n",
    "        'domestic appliances': 3,\n",
    "        'repairs': 3,\n",
    "        'vacation/others': 3\n",
    "    }\n",
    "}\n",
    "\n",
    "# Define risk levels based on total score\n",
    "risk_levels = [\n",
    "    (70, \"High risk\"),\n",
    "    (50, \"Medium-high risk\"),\n",
    "    (30, \"Medium-low risk\"),\n",
    "    (0, \"Low risk\")\n",
    "]"
   ]
  },
  {
   "cell_type": "code",
   "execution_count": null,
   "id": "23d19045-4b68-4b57-9e9b-66c941617742",
   "metadata": {},
   "outputs": [],
   "source": [
    "# data analysis and save risk report\n",
    "# processed_data = pd.read_csv(\"data/processed_credit_data.csv\")\n",
    "analyzer = DataAnalyzer(processed_data, scoring_rules, risk_levels)\n",
    "risk_report = analyzer.generate_risk_report() \n",
    "analyzer.save_risk_report(\"data/risk_report.csv\")"
   ]
  },
  {
   "cell_type": "code",
   "execution_count": null,
   "id": "cd841c88-c5bb-4b43-9223-67864f8d0137",
   "metadata": {},
   "outputs": [],
   "source": [
    "# Display the risk report\n",
    "risk_report.head()"
   ]
  },
  {
   "cell_type": "code",
   "execution_count": null,
   "id": "aa7b5a12-34f3-45e9-ab01-8f7d98881361",
   "metadata": {},
   "outputs": [],
   "source": [
    "from pygroupf.visualization import DataVisualizer"
   ]
  },
  {
   "cell_type": "code",
   "execution_count": null,
   "id": "75458741-6698-4da1-ba41-0e06bc712fb8",
   "metadata": {},
   "outputs": [],
   "source": [
    "visualizer = DataVisualizer('data/risk_report.csv')\n",
    "visualizer.visualize_all()"
   ]
  },
  {
   "cell_type": "code",
   "execution_count": null,
   "id": "562cb1af-5c75-4d28-af93-8ddd03cc7eda",
   "metadata": {},
   "outputs": [],
   "source": []
  }
 ],
 "metadata": {
  "kernelspec": {
   "display_name": "Python 3 (ipykernel)",
   "language": "python",
   "name": "python3"
  },
  "language_info": {
   "codemirror_mode": {
    "name": "ipython",
    "version": 3
   },
   "file_extension": ".py",
   "mimetype": "text/x-python",
   "name": "python",
   "nbconvert_exporter": "python",
   "pygments_lexer": "ipython3",
   "version": "3.12.9"
  }
 },
 "nbformat": 4,
 "nbformat_minor": 5
}
